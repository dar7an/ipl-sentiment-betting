{
 "cells": [
  {
   "cell_type": "code",
   "execution_count": null,
   "metadata": {},
   "outputs": [],
   "source": [
    "import os\n",
    "import requests\n",
    "import pandas as pd\n",
    "from datetime import datetime, timedelta\n",
    "import json\n",
    "from pathlib import Path\n",
    "import time"
   ]
  },
  {
   "cell_type": "code",
   "execution_count": null,
   "metadata": {},
   "outputs": [],
   "source": [
    "BASE_URL = \"https://api.the-odds-api.com/v4/historical\"\n",
    "API_KEY = os.environ.get(\"ODDS_API_KEY\")\n",
    "SPORT = \"cricket_ipl\""
   ]
  },
  {
   "cell_type": "code",
   "execution_count": null,
   "metadata": {},
   "outputs": [],
   "source": [
    "def get_historical_odds(event_id: str, date: str):\n",
    "    try:\n",
    "        url = f\"{BASE_URL}/sports/{SPORT}/events/{event_id}/odds\"\n",
    "        params = {\n",
    "            \"apiKey\": API_KEY,\n",
    "            \"regions\": \"us\",\n",
    "            \"markets\": \"h2h\",\n",
    "            \"event_id\": event_id,\n",
    "            \"bookmakers\": \"fanduel\",\n",
    "            \"date\": date\n",
    "        }\n",
    "        response = requests.get(url, params=params)\n",
    "        response.raise_for_status()\n",
    "        return response.json()\n",
    "    \n",
    "    except requests.exceptions.RequestException as e:\n",
    "        print(e)\n",
    "        return None"
   ]
  },
  {
   "cell_type": "code",
   "execution_count": null,
   "metadata": {},
   "outputs": [],
   "source": [
    "def get_timestamps(start_str: str, end_str: str, interval_minutes: int = 5) -> list:\n",
    "    timestamps = []\n",
    "    if not start_str or not end_str:\n",
    "        return timestamps\n",
    "    \n",
    "    start_time = datetime.strptime(start_str, '%Y-%m-%dT%H:%M:%SZ')\n",
    "    end_time = datetime.strptime(end_str, '%Y-%m-%dT%H:%M:%SZ')\n",
    "    \n",
    "    current = start_time\n",
    "    while current <= end_time:\n",
    "        timestamps.append(current.strftime('%Y-%m-%dT%H:%M:%SZ'))\n",
    "        current += timedelta(minutes=interval_minutes)\n",
    "    return timestamps"
   ]
  },
  {
   "cell_type": "code",
   "execution_count": null,
   "metadata": {},
   "outputs": [],
   "source": [
    "def get_odds(row: pd.Series) -> None:\n",
    "    the_odds_api_match_id = row['the_odds_api_id']\n",
    "    \n",
    "    output_file = Path(\"\") / f\"{row['sportmonks_id']}.json\"\n",
    "    if output_file.exists():\n",
    "        print(f\"Skipping - data exists\")\n",
    "        return\n",
    "    \n",
    "    if row['abandoned'] == 1:\n",
    "        print(f\"Skipping - match abandoned\")\n",
    "        return\n",
    "        \n",
    "    timestamps = get_timestamps(row['start'], row['end'])\n",
    "    if not timestamps:\n",
    "        print(f\"Skipping - no valid timestamps\")\n",
    "        return\n",
    "        \n",
    "    odds_data = []\n",
    "    for ts in timestamps:\n",
    "        try:\n",
    "            data = get_historical_odds(the_odds_api_match_id, ts)\n",
    "            if data:\n",
    "                odds_data.append({\n",
    "                    'timestamp': ts,\n",
    "                    'odds': data\n",
    "                })\n",
    "        except Exception as e:\n",
    "            print(f\"Error fetching odds for {the_odds_api_match_id} at {ts}: {str(e)}\")\n",
    "            continue\n",
    "    \n",
    "    if odds_data:\n",
    "        output_file.parent.mkdir(parents=True, exist_ok=True)\n",
    "        output_file.write_text(json.dumps(odds_data, indent=2))\n",
    "        print(f\"Saved odds for {row['home_team']} vs {row['away_team']}\")\n",
    "    else:\n",
    "        print(f\"No odds data collected for {row['home_team']} vs {row['away_team']}\")"
   ]
  },
  {
   "cell_type": "code",
   "execution_count": null,
   "metadata": {},
   "outputs": [],
   "source": [
    "timestamps_df = pd.read_csv('timestamps.csv')\n",
    "\n",
    "for _, row in timestamps_df.iterrows():\n",
    "    print(f\"Processing {row['sportmonks_id']}: {row['home_team']} vs {row['away_team']}\")\n",
    "    get_odds(row)\n",
    "    time.sleep(1)"
   ]
  }
 ],
 "metadata": {
  "kernelspec": {
   "display_name": "base",
   "language": "python",
   "name": "python3"
  },
  "language_info": {
   "codemirror_mode": {
    "name": "ipython",
    "version": 3
   },
   "file_extension": ".py",
   "mimetype": "text/x-python",
   "name": "python",
   "nbconvert_exporter": "python",
   "pygments_lexer": "ipython3",
   "version": "3.12.4"
  }
 },
 "nbformat": 4,
 "nbformat_minor": 2
}
