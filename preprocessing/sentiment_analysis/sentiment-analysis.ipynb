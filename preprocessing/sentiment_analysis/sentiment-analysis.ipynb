{
 "cells": [
  {
   "cell_type": "code",
   "execution_count": 1,
   "metadata": {},
   "outputs": [
    {
     "name": "stdout",
     "output_type": "stream",
     "text": [
      "Requirement already satisfied: rouge-score in /Users/darshan/Documents/GitHub/ipl-sentiment-betting/.venv/lib/python3.12/site-packages (0.1.2)\n",
      "Requirement already satisfied: absl-py in /Users/darshan/Documents/GitHub/ipl-sentiment-betting/.venv/lib/python3.12/site-packages (from rouge-score) (2.1.0)\n",
      "Requirement already satisfied: nltk in /Users/darshan/Documents/GitHub/ipl-sentiment-betting/.venv/lib/python3.12/site-packages (from rouge-score) (3.9.1)\n",
      "Requirement already satisfied: numpy in /Users/darshan/Documents/GitHub/ipl-sentiment-betting/.venv/lib/python3.12/site-packages (from rouge-score) (2.1.3)\n",
      "Requirement already satisfied: six>=1.14.0 in /Users/darshan/Documents/GitHub/ipl-sentiment-betting/.venv/lib/python3.12/site-packages (from rouge-score) (1.16.0)\n",
      "Requirement already satisfied: click in /Users/darshan/Documents/GitHub/ipl-sentiment-betting/.venv/lib/python3.12/site-packages (from nltk->rouge-score) (8.1.7)\n",
      "Requirement already satisfied: joblib in /Users/darshan/Documents/GitHub/ipl-sentiment-betting/.venv/lib/python3.12/site-packages (from nltk->rouge-score) (1.4.2)\n",
      "Requirement already satisfied: regex>=2021.8.3 in /Users/darshan/Documents/GitHub/ipl-sentiment-betting/.venv/lib/python3.12/site-packages (from nltk->rouge-score) (2024.11.6)\n",
      "Requirement already satisfied: tqdm in /Users/darshan/Documents/GitHub/ipl-sentiment-betting/.venv/lib/python3.12/site-packages (from nltk->rouge-score) (4.67.0)\n",
      "Requirement already satisfied: openpyxl in /Users/darshan/Documents/GitHub/ipl-sentiment-betting/.venv/lib/python3.12/site-packages (3.1.5)\n",
      "Requirement already satisfied: et-xmlfile in /Users/darshan/Documents/GitHub/ipl-sentiment-betting/.venv/lib/python3.12/site-packages (from openpyxl) (2.0.0)\n",
      "Requirement already satisfied: pandas in /Users/darshan/Documents/GitHub/ipl-sentiment-betting/.venv/lib/python3.12/site-packages (2.2.3)\n",
      "Requirement already satisfied: openpyxl in /Users/darshan/Documents/GitHub/ipl-sentiment-betting/.venv/lib/python3.12/site-packages (3.1.5)\n",
      "Requirement already satisfied: numpy>=1.26.0 in /Users/darshan/Documents/GitHub/ipl-sentiment-betting/.venv/lib/python3.12/site-packages (from pandas) (2.1.3)\n",
      "Requirement already satisfied: python-dateutil>=2.8.2 in /Users/darshan/Documents/GitHub/ipl-sentiment-betting/.venv/lib/python3.12/site-packages (from pandas) (2.9.0.post0)\n",
      "Requirement already satisfied: pytz>=2020.1 in /Users/darshan/Documents/GitHub/ipl-sentiment-betting/.venv/lib/python3.12/site-packages (from pandas) (2024.2)\n",
      "Requirement already satisfied: tzdata>=2022.7 in /Users/darshan/Documents/GitHub/ipl-sentiment-betting/.venv/lib/python3.12/site-packages (from pandas) (2024.2)\n",
      "Requirement already satisfied: et-xmlfile in /Users/darshan/Documents/GitHub/ipl-sentiment-betting/.venv/lib/python3.12/site-packages (from openpyxl) (2.0.0)\n",
      "Requirement already satisfied: six>=1.5 in /Users/darshan/Documents/GitHub/ipl-sentiment-betting/.venv/lib/python3.12/site-packages (from python-dateutil>=2.8.2->pandas) (1.16.0)\n"
     ]
    }
   ],
   "source": [
    "!pip install rouge-score\n",
    "!pip install --upgrade openpyxl\n",
    "!pip install pandas openpyxl"
   ]
  },
  {
   "cell_type": "code",
   "execution_count": 2,
   "metadata": {},
   "outputs": [
    {
     "name": "stderr",
     "output_type": "stream",
     "text": [
      "/Users/darshan/Documents/GitHub/ipl-sentiment-betting/.venv/lib/python3.12/site-packages/tqdm/auto.py:21: TqdmWarning: IProgress not found. Please update jupyter and ipywidgets. See https://ipywidgets.readthedocs.io/en/stable/user_install.html\n",
      "  from .autonotebook import tqdm as notebook_tqdm\n"
     ]
    }
   ],
   "source": [
    "import torch\n",
    "import random\n",
    "from transformers import AutoModelForCausalLM, AutoTokenizer\n",
    "import pandas as pd"
   ]
  },
  {
   "cell_type": "code",
   "execution_count": 3,
   "metadata": {},
   "outputs": [
    {
     "name": "stderr",
     "output_type": "stream",
     "text": [
      "Loading checkpoint shards: 100%|██████████| 4/4 [00:06<00:00,  1.66s/it]\n",
      "Some parameters are on the meta device because they were offloaded to the disk.\n"
     ]
    }
   ],
   "source": [
    "model_name = \"Qwen/Qwen2.5-7B-Instruct\"\n",
    "\n",
    "model = AutoModelForCausalLM.from_pretrained(\n",
    "    model_name,\n",
    "    torch_dtype=\"auto\",\n",
    "    device_map=\"auto\"\n",
    ")\n",
    "tokenizer = AutoTokenizer.from_pretrained(model_name)"
   ]
  },
  {
   "cell_type": "code",
   "execution_count": 4,
   "metadata": {},
   "outputs": [],
   "source": [
    "df = pd.read_csv('/Users/darshan/Documents/GitHub/ipl-sentiment-trader/reddit/2024/1.csv')"
   ]
  },
  {
   "cell_type": "code",
   "execution_count": 5,
   "metadata": {},
   "outputs": [],
   "source": [
    "def generate_model_response(system_prompt, user_prompt):\n",
    "    messages = [\n",
    "        {\"role\": \"system\", \"content\": system_prompt},\n",
    "        {\"role\": \"user\", \"content\": user_prompt}\n",
    "    ]\n",
    "    \n",
    "    text = tokenizer.apply_chat_template(\n",
    "        messages,\n",
    "        tokenize=False,\n",
    "        add_generation_prompt=True\n",
    "    )\n",
    "    \n",
    "    model_inputs = tokenizer([text], return_tensors=\"pt\").to(model.device)\n",
    "    generated_ids = model.generate(\n",
    "        **model_inputs,\n",
    "        max_new_tokens=512\n",
    "    )\n",
    "    \n",
    "    generated_ids = [\n",
    "        output_ids[len(input_ids):] for input_ids, output_ids in zip(model_inputs.input_ids, generated_ids)\n",
    "    ]\n",
    "    \n",
    "    response = tokenizer.batch_decode(generated_ids, skip_special_tokens=True)\n",
    "    return response[0].strip().lower()"
   ]
  },
  {
   "cell_type": "code",
   "execution_count": 6,
   "metadata": {},
   "outputs": [],
   "source": [
    "def analyze_comment_sentiments(dataset, sample_size=50):\n",
    "    comments_list = dataset[\"Comment\"].dropna().tolist()\n",
    "    \n",
    "    if sample_size:\n",
    "        import random\n",
    "        comments_list = random.sample(comments_list, min(sample_size, len(comments_list)))\n",
    "    \n",
    "    sentiments = []\n",
    "    i = 0\n",
    "    exceptions = 0\n",
    "    \n",
    "    for comment in comments_list:\n",
    "        try:\n",
    "            system_prompt = \"You will be analyzing sentiment from Indian Premier League (IPL) 2024 cricket match comments from the same Reddit thread. The comments are timestamped. Some comments may be made by trolls and not connected to the game.\"\n",
    "            user_prompt = f\"\"\"What is the sentiment expressed in the following IPL match thread comment?\n",
    "            Select sentiment value from positive, negative, neutral, or irrelevant. Return only the sentiment value.\n",
    "            Comment: {comment}\"\"\"\n",
    "            \n",
    "            sentiment = generate_model_response(system_prompt, user_prompt)\n",
    "            sentiments.append({\n",
    "                'comment': comment,\n",
    "                'sentiment': sentiment\n",
    "            })\n",
    "            \n",
    "            i += 1\n",
    "            print(f\"Processed comment {i}: {sentiment}\")\n",
    "            \n",
    "        except Exception as e:\n",
    "            print(\"===================\")\n",
    "            print(\"Exception occurred:\", e)\n",
    "            exceptions += 1\n",
    "            print(\"Total exception count:\", exceptions)\n",
    "    \n",
    "    return pd.DataFrame(sentiments)"
   ]
  },
  {
   "cell_type": "code",
   "execution_count": 7,
   "metadata": {},
   "outputs": [
    {
     "name": "stdout",
     "output_type": "stream",
     "text": [
      "Processed comment 1: negative\n",
      "Processed comment 2: negative\n",
      "Processed comment 3: neutral\n",
      "Processed comment 4: irrelevant\n",
      "Processed comment 5: negative\n",
      "Processed comment 6: negative\n",
      "Processed comment 7: irrelevant\n",
      "Processed comment 8: irrelevant\n",
      "Processed comment 9: neutral\n",
      "Processed comment 10: irrelevant\n",
      "Processed comment 11: negative\n",
      "Processed comment 12: negative\n",
      "Processed comment 13: negative\n",
      "Processed comment 14: negative\n",
      "Processed comment 15: negative\n",
      "Processed comment 16: neutral\n",
      "Processed comment 17: negative\n",
      "Processed comment 18: neutral\n",
      "Processed comment 19: positive\n",
      "Processed comment 20: neutral\n",
      "Processed comment 21: negative\n",
      "Processed comment 22: negative\n",
      "Processed comment 23: positive\n",
      "Processed comment 24: neutral\n",
      "Processed comment 25: irrelevant\n",
      "Processed comment 26: negative\n",
      "Processed comment 27: neutral\n",
      "Processed comment 28: negative\n",
      "Processed comment 29: positive\n",
      "Processed comment 30: neutral\n",
      "Processed comment 31: neutral\n",
      "Processed comment 32: neutral\n",
      "Processed comment 33: neutral\n",
      "Processed comment 34: positive\n",
      "Processed comment 35: negative\n",
      "Processed comment 36: negative\n",
      "Processed comment 37: negative\n",
      "Processed comment 38: negative\n",
      "Processed comment 39: negative\n",
      "Processed comment 40: neutral\n",
      "Processed comment 41: neutral\n",
      "Processed comment 42: negative\n",
      "Processed comment 43: neutral\n",
      "Processed comment 44: neutral\n",
      "Processed comment 45: positive\n",
      "Processed comment 46: neutral\n",
      "Processed comment 47: neutral\n",
      "Processed comment 48: negative\n",
      "Processed comment 49: negative\n",
      "Processed comment 50: neutral\n",
      "\n",
      "Sentiment Distribution:\n",
      "sentiment\n",
      "negative      22\n",
      "neutral       18\n",
      "irrelevant     5\n",
      "positive       5\n",
      "Name: count, dtype: int64\n",
      "\n",
      "Sentiment Distribution (%):\n",
      "sentiment\n",
      "negative      44.0\n",
      "neutral       36.0\n",
      "irrelevant    10.0\n",
      "positive      10.0\n",
      "Name: count, dtype: float64\n"
     ]
    }
   ],
   "source": [
    "results = analyze_comment_sentiments(df, sample_size=50)\n",
    "\n",
    "print(\"\\nSentiment Distribution:\")\n",
    "print(results['sentiment'].value_counts())\n",
    "\n",
    "sentiment_percentages = (results['sentiment'].value_counts() / len(results) * 100).round(2)\n",
    "print(\"\\nSentiment Distribution (%):\")\n",
    "print(sentiment_percentages)"
   ]
  },
  {
   "cell_type": "code",
   "execution_count": 8,
   "metadata": {},
   "outputs": [
    {
     "data": {
      "text/html": [
       "<div>\n",
       "<style scoped>\n",
       "    .dataframe tbody tr th:only-of-type {\n",
       "        vertical-align: middle;\n",
       "    }\n",
       "\n",
       "    .dataframe tbody tr th {\n",
       "        vertical-align: top;\n",
       "    }\n",
       "\n",
       "    .dataframe thead th {\n",
       "        text-align: right;\n",
       "    }\n",
       "</style>\n",
       "<table border=\"1\" class=\"dataframe\">\n",
       "  <thead>\n",
       "    <tr style=\"text-align: right;\">\n",
       "      <th></th>\n",
       "      <th>comment</th>\n",
       "      <th>sentiment</th>\n",
       "    </tr>\n",
       "  </thead>\n",
       "  <tbody>\n",
       "    <tr>\n",
       "      <th>0</th>\n",
       "      <td>Why not santner bruh seriously</td>\n",
       "      <td>negative</td>\n",
       "    </tr>\n",
       "    <tr>\n",
       "      <th>1</th>\n",
       "      <td>Deserved mf had no other plans for him</td>\n",
       "      <td>negative</td>\n",
       "    </tr>\n",
       "    <tr>\n",
       "      <th>2</th>\n",
       "      <td>Shastri with his mandatory 2 pegs</td>\n",
       "      <td>neutral</td>\n",
       "    </tr>\n",
       "    <tr>\n",
       "      <th>3</th>\n",
       "      <td>Where is the skip button??</td>\n",
       "      <td>irrelevant</td>\n",
       "    </tr>\n",
       "    <tr>\n",
       "      <th>4</th>\n",
       "      <td>Rawat was flabbergasted</td>\n",
       "      <td>negative</td>\n",
       "    </tr>\n",
       "  </tbody>\n",
       "</table>\n",
       "</div>"
      ],
      "text/plain": [
       "                                  comment   sentiment\n",
       "0          Why not santner bruh seriously    negative\n",
       "1  Deserved mf had no other plans for him    negative\n",
       "2       Shastri with his mandatory 2 pegs     neutral\n",
       "3              Where is the skip button??  irrelevant\n",
       "4                 Rawat was flabbergasted    negative"
      ]
     },
     "execution_count": 8,
     "metadata": {},
     "output_type": "execute_result"
    }
   ],
   "source": [
    "results.head()"
   ]
  }
 ],
 "metadata": {
  "kernelspec": {
   "display_name": ".venv",
   "language": "python",
   "name": "python3"
  },
  "language_info": {
   "codemirror_mode": {
    "name": "ipython",
    "version": 3
   },
   "file_extension": ".py",
   "mimetype": "text/x-python",
   "name": "python",
   "nbconvert_exporter": "python",
   "pygments_lexer": "ipython3",
   "version": "3.12.4"
  }
 },
 "nbformat": 4,
 "nbformat_minor": 2
}
