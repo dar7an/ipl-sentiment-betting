{
 "cells": [
  {
   "cell_type": "code",
   "execution_count": null,
   "metadata": {},
   "outputs": [],
   "source": [
    "import os\n",
    "import time\n",
    "import csv\n",
    "from datetime import datetime, timezone\n",
    "\n",
    "import pandas as pd\n",
    "import praw\n",
    "from prawcore.exceptions import RequestException, ResponseException"
   ]
  },
  {
   "cell_type": "code",
   "execution_count": null,
   "metadata": {},
   "outputs": [],
   "source": [
    "threads_df = pd.read_csv('2024.csv', header=None, names=['thread'])\n",
    "thread_dict = {i+1: [f\"{i+1}\", f\"Match {i+1}\", row['thread']] for i, row in threads_df.iterrows()}"
   ]
  },
  {
   "cell_type": "code",
   "execution_count": null,
   "metadata": {},
   "outputs": [],
   "source": [
    "reddit = praw.Reddit(\n",
    "    client_id=os.getenv('CLIENT_ID'),\n",
    "    client_secret=os.getenv('CLIENT_SECRET'),\n",
    "    user_agent=os.getenv('USER_AGENT'),\n",
    ")"
   ]
  },
  {
   "cell_type": "code",
   "execution_count": null,
   "metadata": {},
   "outputs": [],
   "source": [
    "\n",
    "def get_comments(submission_url, filename, retries=10, initial_wait=5):\n",
    "    \n",
    "    filepath = os.path.join('/Users/darshan/Documents/GitHub/ipl-sentiment-betting/reddit/2024', filename)\n",
    "    \n",
    "    with open(filepath, 'w', newline='', encoding='utf-8') as csvfile:\n",
    "        writer = csv.writer(csvfile)\n",
    "        writer.writerow(['Timestamp', 'Comment', 'Upvotes'])\n",
    "        \n",
    "        submission = reddit.submission(url=submission_url)\n",
    "        submission.comment_sort = 'old'\n",
    "        \n",
    "        wait_time = initial_wait\n",
    "        \n",
    "        for attempt in range(retries):\n",
    "            try:\n",
    "                submission.comments.replace_more(limit=None)\n",
    "                \n",
    "                for top_level_comment in submission.comments:\n",
    "                    writer.writerow([\n",
    "                        datetime.fromtimestamp(top_level_comment.created_utc, timezone.utc).isoformat(),\n",
    "                        top_level_comment.body,\n",
    "                        top_level_comment.score\n",
    "                    ])\n",
    "                break\n",
    "            \n",
    "            except (RequestException, ResponseException) as e:\n",
    "                if '429' in str(e):\n",
    "                    print(f\"Rate limited. Retrying in {wait_time} seconds... (Attempt {attempt + 1}/{retries})\")\n",
    "                    time.sleep(wait_time)\n",
    "                    wait_time *= 2\n",
    "                elif '500' in str(e):\n",
    "                    print(f\"Server error. Retrying in {wait_time} seconds... (Attempt {attempt + 1}/{retries})\")\n",
    "                    time.sleep(wait_time)\n",
    "                else:\n",
    "                    raise\n",
    "        else:\n",
    "            raise Exception(f\"Failed to fetch comments from {submission_url} after {retries} attempts.\")\n"
   ]
  },
  {
   "cell_type": "code",
   "execution_count": null,
   "metadata": {},
   "outputs": [],
   "source": [
    "for match, (match_number, match_teams, thread_url) in thread_dict.items():\n",
    "    filename = f'{match_number}.csv'\n",
    "    filepath = os.path.join('/Users/darshan/Documents/GitHub/ipl-sentiment-betting/reddit/2024', filename)\n",
    "    \n",
    "    print(f\"Processing Match {match_number}\")\n",
    "    \n",
    "    if os.path.exists(filepath):\n",
    "        print(f\"Skipping - file already exists for Match {match_number}\\n\")\n",
    "        continue\n",
    "    \n",
    "    try:\n",
    "        get_comments(thread_url, filename)\n",
    "    except Exception as e:\n",
    "        print(f\"Error {match_number}\")\n",
    "        print(e)\n",
    "    \n",
    "    print(f\"Finished processing Match {match_number}\\n\")\n"
   ]
  }
 ],
 "metadata": {
  "kernelspec": {
   "display_name": ".venv",
   "language": "python",
   "name": "python3"
  },
  "language_info": {
   "codemirror_mode": {
    "name": "ipython",
    "version": 3
   },
   "file_extension": ".py",
   "mimetype": "text/x-python",
   "name": "python",
   "nbconvert_exporter": "python",
   "pygments_lexer": "ipython3",
   "version": "3.12.4"
  }
 },
 "nbformat": 4,
 "nbformat_minor": 2
}
